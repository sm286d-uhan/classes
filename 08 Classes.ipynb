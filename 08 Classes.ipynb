{
 "cells": [
  {
   "cell_type": "markdown",
   "metadata": {
    "hide_cell": true
   },
   "source": [
    "<span class='note'><i>Make me look good.</i> Click on the cell below and press <kbd>Ctrl</kbd>+<kbd>Enter</kbd>.</span>"
   ]
  },
  {
   "cell_type": "code",
   "execution_count": null,
   "metadata": {
    "hide_cell": true
   },
   "outputs": [],
   "source": [
    "from IPython.core.display import HTML\n",
    "HTML(open('css/custom.css', 'r').read())"
   ]
  },
  {
   "cell_type": "markdown",
   "metadata": {
    "hide_cell": true
   },
   "source": [
    "<h5 class='prehead'>SM286D &middot; Introduction to Applied Mathematics with Python &middot; Spring 2020 &middot; Uhan</h5>\n",
    "\n",
    "<h5 class='lesson'>Lesson 8.</h5>\n",
    "\n",
    "<h1 class='lesson_title'>Classes</h1>"
   ]
  },
  {
   "cell_type": "markdown",
   "metadata": {},
   "source": [
    "## This lesson..."
   ]
  },
  {
   "cell_type": "markdown",
   "metadata": {},
   "source": [
    "- Object-oriented programming\n",
    "- Classes\n",
    "- Looping over objects\n",
    "- Another example of a class\n",
    "- Summary"
   ]
  },
  {
   "cell_type": "markdown",
   "metadata": {},
   "source": [
    "---"
   ]
  },
  {
   "cell_type": "markdown",
   "metadata": {},
   "source": [
    "## Object-oriented programming"
   ]
  },
  {
   "cell_type": "markdown",
   "metadata": {},
   "source": [
    "- __Object-oriented programming__ is a particular way of programming that organizes your code around different types of (often real-world) objects.\n",
    "\n",
    "- We write __classes__ that represent these objects, that define the general behavior of the objects.\n",
    "\n",
    "- We create __objects__ from these classes.\n",
    "    - Making an object from a class is called __instantiation__.\n",
    "    - Such an object is an __instance__ of a class.\n",
    "    \n",
    "- A rough analogy:\n",
    "    - A cookie cutter is like a class: it defines the shape and size of a cookie. \n",
    "    - A cookie cut from the cookie cutter is like an instance of the class: it has the same shape and size defined by the cookie cutter."
   ]
  },
  {
   "cell_type": "markdown",
   "metadata": {},
   "source": [
    "- Why bother with object-oriented programming?\n",
    "    - It helps organize your code as you take on increasingly complex challenges.\n",
    "    - It is the de-facto standard. Most code in the wild &mdash; in particular, code in Python packages &mdash; is written in an object-oriented way."
   ]
  },
  {
   "cell_type": "markdown",
   "metadata": {},
   "source": [
    "---"
   ]
  },
  {
   "cell_type": "markdown",
   "metadata": {},
   "source": [
    "## Classes"
   ]
  },
  {
   "cell_type": "markdown",
   "metadata": {},
   "source": [
    "- Let's look at a concrete example.\n",
    "\n",
    "- Suppose we want to define a class in Python that represents a right triangle.  \n",
    "\n",
    "- What are the characteristics of a right triangle?\n",
    "\n",
    "<img src=\"img/RightTriangle.png\" width=\"30%\">\n",
    "\n",
    "- In the code cell below we define the `RightTriangle` class in Python, and we use the values of `a` and `b` in our definition. _Turn on line numbers in the code cell below._"
   ]
  },
  {
   "cell_type": "code",
   "execution_count": null,
   "metadata": {},
   "outputs": [],
   "source": [
    "class RightTriangle:\n",
    "    \"\"\"A model of a right triangle.\"\"\"\n",
    "    \n",
    "    def __init__(self, a, b):\n",
    "        \"\"\"Initialize side lengths a and b of the triangle.\"\"\"        \n",
    "        self.a = a\n",
    "        self.b = b"
   ]
  },
  {
   "cell_type": "markdown",
   "metadata": {},
   "source": [
    "- On line 1, we define the class `RightTriangle`.  \n",
    "    - Note the use of **CamelCaps** in the class name.  \n",
    "    \n",
    "- On line 4, we define the `__init__()` method.  \n",
    "    - A function that is part of a class is called a __method__.  \n",
    "    - The `__init__()` method is a special method that Python runs automatically whenever we create a new instance from the `RightTriangle` class.\n",
    "    - `__init()__` has three parameters: `self`, `a`, and `b`.  \n",
    "\n",
    "- What is the `self` parameter?\n",
    "    - The `self` parameter is required in every method definition.\n",
    "    - The `self` parameter <span class=\"rred\">must</span> come first, before the other parameters.\n",
    "    - <span class=\"rred\">Every</span> method call associated with an instance <span class=\"rred\">automatically</span> passes `self`, which is a reference to the instance itself.  \n",
    "    - Using `self` gives the individual instance access to the attributes and methods in the class.\n",
    "\n",
    "- On lines 6 and 7, we define variables with the prefix `self`.\n",
    "    - Any variable prefixed with `self` is available to every method in the class.\n",
    "    - We will also be able to access these variables through any instance created from the class.\n",
    "    - Variables that are accessible through instances like this are called **attributes**."
   ]
  },
  {
   "cell_type": "markdown",
   "metadata": {},
   "source": [
    "- In the code cell below we create an <span class=\"rred\">instance</span> of  `RightTriangle` called `my_right_triangle`:"
   ]
  },
  {
   "cell_type": "code",
   "execution_count": null,
   "metadata": {},
   "outputs": [],
   "source": [
    "# Create new instance of RightTriangle\n"
   ]
  },
  {
   "cell_type": "markdown",
   "metadata": {},
   "source": [
    "- We can now access the attributes of the `my_right_triangle` instance like this:"
   ]
  },
  {
   "cell_type": "code",
   "execution_count": null,
   "metadata": {},
   "outputs": [],
   "source": [
    "# Print the length of side a\n",
    "\n",
    "\n",
    "# Print the length of side b\n"
   ]
  },
  {
   "cell_type": "markdown",
   "metadata": {},
   "source": [
    "- We could add another attribute to our `RightTriangle` class for the hypotenuse, let's call it `c`.  \n",
    "\n",
    "- But... we know from the Pythagorean Theorem that `c` is a function of `a` and `b`.  \n",
    "\n",
    "- So instead of adding another attribute, let's add a method `calc_c` that computes the length of the hypotenuse given the values of `a` and `b`."
   ]
  },
  {
   "cell_type": "code",
   "execution_count": null,
   "metadata": {},
   "outputs": [],
   "source": [
    "class RightTriangle:\n",
    "    \"\"\"A model of a right triangle.\"\"\"\n",
    "    \n",
    "    def __init__(self, a, b):\n",
    "        \"\"\"Initialize side lengths a and b of the triangle.\"\"\"   \n",
    "        self.a = a\n",
    "        self.b = b\n",
    "        \n",
    "    def calc_c(self):\n",
    "        \"\"\"\n",
    "        Calculate the length of the hypotenuse and \n",
    "        store it as the attribute c.\n",
    "        \"\"\"\n",
    "        # c is a variable local to the calc_c method\n",
    "        c = (self.a ** 2 + self.b ** 2) ** (1/2)\n",
    "        \n",
    "        # self.c is an attribute of the class, \n",
    "        # and is accessible by any method of the class.\n",
    "        self.c = c"
   ]
  },
  {
   "cell_type": "markdown",
   "metadata": {},
   "source": [
    "- Note that we had to include the original code from the cell above where we defined `RightTriangle` in order to add the method `calc_c`.\n",
    "\n",
    "- Because the method `calc_c` doesn't need any additional inputs to run, on line 9 we just define it to have one parameter, `self`.\n",
    "\n",
    "- The instances of `RightTriangle` that we create after adding this method will have access to it."
   ]
  },
  {
   "cell_type": "code",
   "execution_count": null,
   "metadata": {},
   "outputs": [],
   "source": [
    "# Create an instance of the new RightTriangle class\n",
    "my_right_triangle = RightTriangle(3, 4)"
   ]
  },
  {
   "cell_type": "markdown",
   "metadata": {},
   "source": [
    "- To call the method, we use the syntax shown below."
   ]
  },
  {
   "cell_type": "code",
   "execution_count": null,
   "metadata": {},
   "outputs": [],
   "source": [
    "# Call the calc_c method on our new instance\n"
   ]
  },
  {
   "cell_type": "markdown",
   "metadata": {},
   "source": [
    "- Now that we've run the method `calc_c`, the instance `my_right_triangle` has the attribute `c` which we can access as shown below."
   ]
  },
  {
   "cell_type": "code",
   "execution_count": null,
   "metadata": {},
   "outputs": [],
   "source": [
    "# Print length of c (hypotenuse)\n"
   ]
  },
  {
   "cell_type": "markdown",
   "metadata": {},
   "source": [
    "__Example.__ Add another method called `calc_perimeter` to the `RightTriangle` class that calculates the perimeter of the triangle and stores it as the attribute `p`."
   ]
  },
  {
   "cell_type": "code",
   "execution_count": null,
   "metadata": {},
   "outputs": [],
   "source": []
  },
  {
   "cell_type": "markdown",
   "metadata": {},
   "source": [
    "- Now we can use `calc_perimeter` to find the perimeter of a right triangle like this:"
   ]
  },
  {
   "cell_type": "code",
   "execution_count": null,
   "metadata": {},
   "outputs": [],
   "source": [
    "my_right_triangle = RightTriangle(3, 4)\n",
    "my_right_triangle.calc_perimeter()\n",
    "print(f\"The perimeter of a right triangle with sides {my_right_triangle.a}, {my_right_triangle.b}, {my_right_triangle.c} is {my_right_triangle.p}.\")"
   ]
  },
  {
   "cell_type": "markdown",
   "metadata": {},
   "source": [
    "### Some of this seems familiar..."
   ]
  },
  {
   "cell_type": "markdown",
   "metadata": {},
   "source": [
    "- We've seen methods before...\n",
    "\n",
    "- For example, `.title()` for strings:"
   ]
  },
  {
   "cell_type": "code",
   "execution_count": null,
   "metadata": {},
   "outputs": [],
   "source": [
    "my_name = 'nelson uhan'\n",
    "print(my_name.title())"
   ]
  },
  {
   "cell_type": "markdown",
   "metadata": {},
   "source": [
    "- Another example, `.append()` for lists:"
   ]
  },
  {
   "cell_type": "code",
   "execution_count": null,
   "metadata": {},
   "outputs": [],
   "source": [
    "drinks = ['coke', 'sprite', 'whiskey']\n",
    "drinks.append('beer')\n",
    "print(drinks)"
   ]
  },
  {
   "cell_type": "markdown",
   "metadata": {},
   "source": [
    "- Also, `.items()` for dictionaries:"
   ]
  },
  {
   "cell_type": "code",
   "execution_count": null,
   "metadata": {},
   "outputs": [],
   "source": [
    "authors = {\n",
    "    'Little Women': 'Louisa May Alcott',\n",
    "    'A Raisin in the Sun': 'Lorraine Hansberry',\n",
    "    'Python Crash Course': 'Eric Matthes'\n",
    "}\n",
    "\n",
    "for title, author in authors.items():\n",
    "    print(f\"{title}, by {author}\")"
   ]
  },
  {
   "cell_type": "markdown",
   "metadata": {},
   "source": [
    "- This is because strings, lists, and dictionaries are Python objects, defined as classes with methods and attributes."
   ]
  },
  {
   "cell_type": "markdown",
   "metadata": {},
   "source": [
    "---"
   ]
  },
  {
   "cell_type": "markdown",
   "metadata": {},
   "source": [
    "## Looping over objects"
   ]
  },
  {
   "cell_type": "markdown",
   "metadata": {},
   "source": [
    "- Often, we will create lists of objects, and then loop over the list.\n",
    "\n",
    "- For example, we can create a list of 4 RightTriangle instances:"
   ]
  },
  {
   "cell_type": "code",
   "execution_count": null,
   "metadata": {},
   "outputs": [],
   "source": [
    "# List of right triangle side lengths\n",
    "a_list = [3, 5, 8, 7]\n",
    "b_list = [4, 12, 15, 24]\n",
    "\n",
    "# Create list of right triangles\n",
    "my_triangles = []\n",
    "for i in range(len(a_list)):\n",
    "    my_triangles.append(RightTriangle(a_list[i], b_list[i]))\n",
    "\n",
    "# Print list to check work\n",
    "print(my_triangles)"
   ]
  },
  {
   "cell_type": "markdown",
   "metadata": {},
   "source": [
    "- Now we can write a loop that \n",
    "    - calls the `calc_perimeter` method for each triangle, \n",
    "    - and then prints a statement describing the right triangle and giving its perimeter."
   ]
  },
  {
   "cell_type": "code",
   "execution_count": null,
   "metadata": {},
   "outputs": [],
   "source": [
    "for triangle in my_triangles:\n",
    "    triangle.calc_perimeter()\n",
    "    print(f\"The perimeter of a right triangle with sides {triangle.a}, {triangle.b}, {triangle.c} is {triangle.p}.\")"
   ]
  },
  {
   "cell_type": "markdown",
   "metadata": {},
   "source": [
    "---"
   ]
  },
  {
   "cell_type": "markdown",
   "metadata": {},
   "source": [
    "## Another example of a class"
   ]
  },
  {
   "cell_type": "markdown",
   "metadata": {},
   "source": [
    "- Here, we define a class called `Section` that represents a class section."
   ]
  },
  {
   "cell_type": "code",
   "execution_count": null,
   "metadata": {},
   "outputs": [],
   "source": [
    "class Section:\n",
    "    \"\"\"Class section\"\"\"\n",
    "   \n",
    "    def __init__(self, mids_entry, section_number, num_mids, cap, prof):\n",
    "        \"\"\"Initialize attributes of section.\"\"\"\n",
    "        self.course_code = mids_entry\n",
    "        self.section = section_number\n",
    "        self.students = num_mids\n",
    "        self.capacity = cap\n",
    "        self.professor = prof\n",
    "        \n",
    "    def seat_available(self):\n",
    "        \"\"\"Returns True if there is an open seat in the class.\"\"\"\n",
    "        return self.students < self.capacity"
   ]
  },
  {
   "cell_type": "markdown",
   "metadata": {},
   "source": [
    "__Example.__ Define an instance of `Section` called `my_section`. Use `SM286D` as the value for `mids_entry`, your section number as the value for `section_number`, the number of students in this section as the value for `num_mids`, the number of desks in the room as the value for `cap`, and your instructor's name as the value for `prof`.\n",
    "\n",
    "Then, call the method `seat_available` for the instance of `Section` you created.  What value should `seat_available` return?"
   ]
  },
  {
   "cell_type": "code",
   "execution_count": null,
   "metadata": {},
   "outputs": [],
   "source": [
    "# Create instance of Section\n",
    "\n",
    "\n",
    "# Are there seats available?\n"
   ]
  },
  {
   "cell_type": "markdown",
   "metadata": {},
   "source": [
    "---"
   ]
  },
  {
   "cell_type": "markdown",
   "metadata": {},
   "source": [
    "## Summary"
   ]
  },
  {
   "cell_type": "markdown",
   "metadata": {},
   "source": [
    "- We can define classes to represent real-world objects in our code.\n",
    "\n",
    "- Class &#8596; cookie cutter\n",
    "- Instance &#8596; cookie\n",
    "\n",
    "- Classes consist of:\n",
    "    - **attributes** &#8596; variables \"attached\" to the object\n",
    "    - **methods** &#8596; functions \"attached\" to the object"
   ]
  },
  {
   "cell_type": "markdown",
   "metadata": {},
   "source": [
    "---"
   ]
  },
  {
   "cell_type": "markdown",
   "metadata": {},
   "source": [
    "## Classwork"
   ]
  },
  {
   "cell_type": "markdown",
   "metadata": {},
   "source": [
    "__Problem 1.__\n",
    "To get another perspective on object oriented programming, watch the first 2 minutes and 3 seconds of the YouTube video embedded below.  It will help motivate what classes are all about."
   ]
  },
  {
   "cell_type": "code",
   "execution_count": null,
   "metadata": {
    "scrolled": true
   },
   "outputs": [],
   "source": [
    "from IPython.display import IFrame\n",
    "IFrame(src=\"https://www.youtube.com/embed/pTB0EiLXUC8\", width=\"560\", height=\"315\", frameborder=\"0\", allow=\"accelerometer; autoplay; encrypted-media; gyroscope; picture-in-picture\")"
   ]
  },
  {
   "cell_type": "markdown",
   "metadata": {},
   "source": [
    "__Problem 2 (PCC 9-1: Restaurant).__\n",
    "Make a class called `Restaurant`. The `__init__()` method for `Restaurant` should store two attributes: a `restaurant_name` and a `cuisine_type`.  Make a method called `describe_restaurant()` that prints these two pieces of information, and a method called `open_restaurant()` that prints a message indicating that the restaurant is open.  Make an instance called `restaurant` from your class, using information about your favorite restaurant. Print the two attributes individually, and then call both methods."
   ]
  },
  {
   "cell_type": "code",
   "execution_count": null,
   "metadata": {},
   "outputs": [],
   "source": []
  },
  {
   "cell_type": "markdown",
   "metadata": {},
   "source": [
    "__Problem 3 (PCC 9-2: Three Restaurants).__ \n",
    "Start with the class you defined in Problem 2. Create three different instances from the class, and call `describe_restaurant()` for each instance.\t"
   ]
  },
  {
   "cell_type": "code",
   "execution_count": null,
   "metadata": {},
   "outputs": [],
   "source": []
  },
  {
   "cell_type": "markdown",
   "metadata": {},
   "source": [
    "__Problem 4 (PCC 9-4: Number Served).__\n",
    "Read pages 162-167 of PCC Chapter 9.\n",
    "\n",
    "Start with your code from Problem 2. Add an attribute called `number_served` with a default value of 0. Create an instance called `restaurant` from this class. Print the number of customers the restaurant has served, and then change this value and print it again."
   ]
  },
  {
   "cell_type": "code",
   "execution_count": null,
   "metadata": {},
   "outputs": [],
   "source": []
  },
  {
   "cell_type": "markdown",
   "metadata": {},
   "source": [
    "Add a method called `set_number_served()` that lets you set the number of customers that have been served. Call this method with a new number and print the value again.  "
   ]
  },
  {
   "cell_type": "code",
   "execution_count": null,
   "metadata": {},
   "outputs": [],
   "source": []
  },
  {
   "cell_type": "markdown",
   "metadata": {},
   "source": [
    "Add a method called `increment_number_served()` that lets you increment the number of customers who’ve been served. Call this method with any number you like that could represent how many customers were served in, say, a day of business."
   ]
  },
  {
   "cell_type": "code",
   "execution_count": null,
   "metadata": {},
   "outputs": [],
   "source": []
  },
  {
   "cell_type": "markdown",
   "metadata": {},
   "source": [
    "__Problem 5 (PCC 9-14: Dice).__ \n",
    "The module `random` contains functions that generate random numbers in a variety of ways. The function `randint()` returns an integer in the range you provide. The following code returns a number between 1 and 6 and stores it in variable `x`:\n",
    "\n",
    "```python\n",
    "from random import randint\n",
    "x = randint(1, 6)\n",
    "```\n",
    "\n",
    "Make a class `Die` with one attribute called `sides`, which has a default value of 6. Write a method called `roll_die()` that prints a random number between 1 and the number of sides the die has. Make a 6-sided die and roll it 10 times. \n",
    "\n",
    "Make a 10-sided die and a 20-sided die. Roll each die 10 times."
   ]
  },
  {
   "cell_type": "code",
   "execution_count": null,
   "metadata": {},
   "outputs": [],
   "source": []
  },
  {
   "cell_type": "markdown",
   "metadata": {},
   "source": [
    "__Problem 6 (PCC 9-6: Ice Cream Stand).__\n",
    "Read pages 167-173 of PCC Chapter 9.\n",
    "\n",
    "An ice cream stand is a specific kind of restaurant. Write a class called `IceCreamStand` that inherits from the final `Restaurant` class you wrote in Problem 4. Add an attribute called `flavors` that stores a list of ice cream flavors. Write a method that displays these flavors. Create an instance of `IceCreamStand`, and call this method. Call the `set_number_served()` method to  set the number of customers that have been served, and print this value."
   ]
  },
  {
   "cell_type": "code",
   "execution_count": null,
   "metadata": {},
   "outputs": [],
   "source": []
  },
  {
   "cell_type": "markdown",
   "metadata": {},
   "source": [
    "__Problem 7. (PCC 9-10: Imported Restaurant)__\n",
    "Read pages 174-180 of PCC Chapter 9.\n",
    "\n",
    "Store your latest `Restaurant` class in a module called `restaurant`.  In the code cell below, import the class `Restaurant` from `restaurant`. Make a `Restaurant` instance, and call one of `Restaurant`’s methods to show that the import statement is working properly."
   ]
  },
  {
   "cell_type": "code",
   "execution_count": null,
   "metadata": {},
   "outputs": [],
   "source": []
  }
 ],
 "metadata": {
  "kernelspec": {
   "display_name": "Python 3",
   "language": "python",
   "name": "python3"
  },
  "language_info": {
   "codemirror_mode": {
    "name": "ipython",
    "version": 3
   },
   "file_extension": ".py",
   "mimetype": "text/x-python",
   "name": "python",
   "nbconvert_exporter": "python",
   "pygments_lexer": "ipython3",
   "version": "3.7.6"
  }
 },
 "nbformat": 4,
 "nbformat_minor": 2
}
